{
  "nbformat": 4,
  "nbformat_minor": 0,
  "metadata": {
    "colab": {
      "name": "Probability.ipynb",
      "provenance": [],
      "collapsed_sections": [],
      "authorship_tag": "ABX9TyNxlYTErtnVrpDmm8k3QXNJ",
      "include_colab_link": true
    },
    "kernelspec": {
      "name": "python3",
      "display_name": "Python 3"
    }
  },
  "cells": [
    {
      "cell_type": "markdown",
      "metadata": {
        "id": "view-in-github",
        "colab_type": "text"
      },
      "source": [
        "<a href=\"https://colab.research.google.com/github/mrSnow95/Python/blob/master/Probability.ipynb\" target=\"_parent\"><img src=\"https://colab.research.google.com/assets/colab-badge.svg\" alt=\"Open In Colab\"/></a>"
      ]
    },
    {
      "cell_type": "code",
      "metadata": {
        "id": "8-mJyuO90ByJ"
      },
      "source": [
        "import numpy as np\n",
        "from collections import defaultdict \n"
      ],
      "execution_count": 2,
      "outputs": []
    },
    {
      "cell_type": "code",
      "metadata": {
        "id": "7t8onRHwRaCe",
        "outputId": "ab8d744c-0bd9-40aa-ec39-feadbe852bcc",
        "colab": {
          "base_uri": "https://localhost:8080/",
          "height": 85
        }
      },
      "source": [
        "%pip install handcalcs\n",
        "import handcalcs.render\n",
        "\n"
      ],
      "execution_count": 67,
      "outputs": [
        {
          "output_type": "stream",
          "text": [
            "Requirement already satisfied: handcalcs in /usr/local/lib/python3.6/dist-packages (0.2.0)\n",
            "Requirement already satisfied: pyparsing in /usr/local/lib/python3.6/dist-packages (from handcalcs) (2.4.7)\n",
            "Requirement already satisfied: jinja2 in /usr/local/lib/python3.6/dist-packages (from handcalcs) (2.11.2)\n",
            "Requirement already satisfied: MarkupSafe>=0.23 in /usr/local/lib/python3.6/dist-packages (from jinja2->handcalcs) (1.1.1)\n"
          ],
          "name": "stdout"
        }
      ]
    },
    {
      "cell_type": "markdown",
      "metadata": {
        "id": "-dVMGj8C1YwP"
      },
      "source": [
        "# **Throwing 2 dices**"
      ]
    },
    {
      "cell_type": "code",
      "metadata": {
        "id": "7xZon_eg1TQA",
        "outputId": "1fb6b0fa-237e-465c-8850-5567ae3bf2ff",
        "colab": {
          "base_uri": "https://localhost:8080/",
          "height": 54
        }
      },
      "source": [
        "d = { (i,j): i+j for i in range(1,7) for j in range(1,7)}\n",
        "d.items()"
      ],
      "execution_count": 4,
      "outputs": [
        {
          "output_type": "execute_result",
          "data": {
            "text/plain": [
              "dict_items([((1, 1), 2), ((1, 2), 3), ((1, 3), 4), ((1, 4), 5), ((1, 5), 6), ((1, 6), 7), ((2, 1), 3), ((2, 2), 4), ((2, 3), 5), ((2, 4), 6), ((2, 5), 7), ((2, 6), 8), ((3, 1), 4), ((3, 2), 5), ((3, 3), 6), ((3, 4), 7), ((3, 5), 8), ((3, 6), 9), ((4, 1), 5), ((4, 2), 6), ((4, 3), 7), ((4, 4), 8), ((4, 5), 9), ((4, 6), 10), ((5, 1), 6), ((5, 2), 7), ((5, 3), 8), ((5, 4), 9), ((5, 5), 10), ((5, 6), 11), ((6, 1), 7), ((6, 2), 8), ((6, 3), 9), ((6, 4), 10), ((6, 5), 11), ((6, 6), 12)])"
            ]
          },
          "metadata": {
            "tags": []
          },
          "execution_count": 4
        }
      ]
    },
    {
      "cell_type": "code",
      "metadata": {
        "id": "P0zUqDUK1mGv",
        "outputId": "0625f648-7abd-41b1-a7ec-3718bd66f92f",
        "colab": {
          "base_uri": "https://localhost:8080/",
          "height": 221
        }
      },
      "source": [
        "dinv = defaultdict(list)\n",
        "for i,j in d.items():\n",
        "  dinv[j].append(i)\n",
        "dinv\n",
        "\n"
      ],
      "execution_count": 6,
      "outputs": [
        {
          "output_type": "execute_result",
          "data": {
            "text/plain": [
              "defaultdict(list,\n",
              "            {2: [(1, 1)],\n",
              "             3: [(1, 2), (2, 1)],\n",
              "             4: [(1, 3), (2, 2), (3, 1)],\n",
              "             5: [(1, 4), (2, 3), (3, 2), (4, 1)],\n",
              "             6: [(1, 5), (2, 4), (3, 3), (4, 2), (5, 1)],\n",
              "             7: [(1, 6), (2, 5), (3, 4), (4, 3), (5, 2), (6, 1)],\n",
              "             8: [(2, 6), (3, 5), (4, 4), (5, 3), (6, 2)],\n",
              "             9: [(3, 6), (4, 5), (5, 4), (6, 3)],\n",
              "             10: [(4, 6), (5, 5), (6, 4)],\n",
              "             11: [(5, 6), (6, 5)],\n",
              "             12: [(6, 6)]})"
            ]
          },
          "metadata": {
            "tags": []
          },
          "execution_count": 6
        }
      ]
    },
    {
      "cell_type": "code",
      "metadata": {
        "id": "V_eVx0Os2KQ8",
        "outputId": "64485bcd-ba09-4081-be2f-9357a8d67f3c",
        "colab": {
          "base_uri": "https://localhost:8080/",
          "height": 204
        }
      },
      "source": [
        "X = {i:len(j)/36. for i,j in dinv.items()}\n",
        "Xg"
      ],
      "execution_count": 9,
      "outputs": [
        {
          "output_type": "execute_result",
          "data": {
            "text/plain": [
              "{2: 0.027777777777777776,\n",
              " 3: 0.05555555555555555,\n",
              " 4: 0.08333333333333333,\n",
              " 5: 0.1111111111111111,\n",
              " 6: 0.1388888888888889,\n",
              " 7: 0.16666666666666666,\n",
              " 8: 0.1388888888888889,\n",
              " 9: 0.1111111111111111,\n",
              " 10: 0.08333333333333333,\n",
              " 11: 0.05555555555555555,\n",
              " 12: 0.027777777777777776}"
            ]
          },
          "metadata": {
            "tags": []
          },
          "execution_count": 9
        }
      ]
    },
    {
      "cell_type": "markdown",
      "metadata": {
        "id": "HLSyGTL23Q-w"
      },
      "source": [
        "With this framework, we can ask other questions like what is the probability that half the product of three dice will exceed the their sum? "
      ]
    },
    {
      "cell_type": "code",
      "metadata": {
        "id": "oAsDu5UT3SPN",
        "outputId": "0b6d5ef1-f940-4a24-c2df-9dc5e9eddb8b",
        "colab": {
          "base_uri": "https://localhost:8080/",
          "height": 34
        }
      },
      "source": [
        "d = { (i,j,k): ( (i*j*k)/2 > (i+j+k) ) for i in range(1,7)\n",
        "                                          for j in range(1,7)\n",
        "                                              for k in range(1,7) }\n",
        "\n",
        "dinv = defaultdict(list)\n",
        "for i,j in d.items():\n",
        "  dinv[j].append(i)\n",
        "\n",
        "X = {i:len(j)/6.0**3 for i,j in dinv.items()}\n",
        "print(X)"
      ],
      "execution_count": 12,
      "outputs": [
        {
          "output_type": "stream",
          "text": [
            "{False: 0.37037037037037035, True: 0.6296296296296297}\n"
          ],
          "name": "stdout"
        }
      ]
    },
    {
      "cell_type": "markdown",
      "metadata": {
        "id": "J1AXNdr47rUl"
      },
      "source": [
        "This time one of the dice is no longer fair. The distribution for the unfair die is the following:\n",
        "\n",
        "P[1] = P[2] = P[3] = 1/9\n",
        "\n",
        "P[4] = P[5] = P[6] = 2/9"
      ]
    },
    {
      "cell_type": "code",
      "metadata": {
        "id": "lf_9VOI04xUx"
      },
      "source": [
        "from pandas import DataFrame\n",
        "\n",
        "d = DataFrame(index = [ (i,j) for i in range(1,7) for j in range(1,7)],columns = ['sm','d1','d2','pd1','pd2','p'] )\n",
        "\n",
        "d.d1,d.d2 = [i[0] for i in d.index],[i[1] for i in d.index]\n",
        "d.sm = list(map(lambda x: x[0] + x[1],d.index))\n",
        "d.loc[d.d1 <= 3,'pd1'] = 1/9.0\n",
        "d.loc[d.d1 > 3,'pd1'] = 2/9.0\n",
        "d.loc[:,'pd2'] = 1/6.0\n",
        "\n",
        "d.p = d.pd1*d.pd2\n"
      ],
      "execution_count": 39,
      "outputs": []
    },
    {
      "cell_type": "code",
      "metadata": {
        "id": "WZtj6vNTC5vx",
        "outputId": "fce2d111-3f1e-4306-bab2-ca2982e9d08f",
        "colab": {
          "base_uri": "https://localhost:8080/",
          "height": 238
        }
      },
      "source": [
        "\n",
        "#select sm,sum(p) from df group by sum(p) order by 1 asc\n",
        "\n",
        "d.groupby('sm')['p'].sum()"
      ],
      "execution_count": 29,
      "outputs": [
        {
          "output_type": "execute_result",
          "data": {
            "text/plain": [
              "sm\n",
              "2     0.018519\n",
              "3     0.037037\n",
              "4     0.055556\n",
              "5     0.092593\n",
              "6     0.129630\n",
              "7     0.166667\n",
              "8     0.148148\n",
              "9     0.129630\n",
              "10    0.111111\n",
              "11    0.074074\n",
              "12    0.037037\n",
              "Name: p, dtype: float64"
            ]
          },
          "metadata": {
            "tags": []
          },
          "execution_count": 29
        }
      ]
    },
    {
      "cell_type": "markdown",
      "metadata": {
        "id": "UspPvrWbEpvl"
      },
      "source": [
        "**Classic Broken Rod Example**"
      ]
    },
    {
      "cell_type": "markdown",
      "metadata": {
        "id": "belqKqsyEtOZ"
      },
      "source": [
        "given a rod of unit-length, broken independently and randomly at two places, what is the probability that you can assemble the three remaining pieces into a triangle? \n",
        "\n",
        "\n",
        "\n",
        "\n",
        "A + B + C = 1\n",
        "\n",
        "A = X\n",
        "B = Y - X\n",
        "C = 1 - Y"
      ]
    },
    {
      "cell_type": "code",
      "metadata": {
        "id": "uTCJ6ZJiEoqR",
        "outputId": "7f07621a-8da9-4306-86ca-afeb6af6568e",
        "colab": {
          "base_uri": "https://localhost:8080/",
          "height": 34
        }
      },
      "source": [
        "import math\n",
        "\n",
        "x,y = np.random.rand(2,1000)\n",
        "a,b,c = x,y-x,1-y\n",
        "s = (a+b+c)/2\n",
        "probs = np.mean( (s>a) & (s>b) & (s>c) & (y>x) )\n",
        "print(probs)\n"
      ],
      "execution_count": 38,
      "outputs": [
        {
          "output_type": "stream",
          "text": [
            "0.115\n"
          ],
          "name": "stdout"
        }
      ]
    },
    {
      "cell_type": "markdown",
      "metadata": {
        "id": "XBp6-LzLN49X"
      },
      "source": [
        "Find a point along a blue line that its closest to the square"
      ]
    },
    {
      "cell_type": "code",
      "metadata": {
        "id": "dCjT3nDhIHAs",
        "outputId": "60d0e015-7e4c-4487-eda0-2f0473c39598",
        "colab": {
          "base_uri": "https://localhost:8080/",
          "height": 531
        }
      },
      "source": [
        "from matplotlib import pyplot as plt\n",
        "from matplotlib.patches import Circle,Rectangle\n",
        "\n",
        "x = np.linspace(0,4,100)\n",
        "y = np.linspace(0,4,100)\n",
        "\n",
        "fig, ax = plt.subplots(figsize =(8, 8)) \n",
        "\n",
        "circle = Circle((2,3),0.7,alpha = 0.1,color = 'black')\n",
        "square = Rectangle((2,3),0.1,0.1,color = 'black')\n",
        "ax.add_patch(circle)\n",
        "ax.add_patch(square)\n",
        "x2 = x[x<2]\n",
        "plt.xlabel('v1')\n",
        "plt.ylabel('v2')\n",
        "plt.plot(x,y,x2,3/2*x2,'k--',)\n"
      ],
      "execution_count": 65,
      "outputs": [
        {
          "output_type": "execute_result",
          "data": {
            "text/plain": [
              "[<matplotlib.lines.Line2D at 0x7f755ac77b70>,\n",
              " <matplotlib.lines.Line2D at 0x7f755ac77c18>]"
            ]
          },
          "metadata": {
            "tags": []
          },
          "execution_count": 65
        },
        {
          "output_type": "display_data",
          "data": {
            "image/png": "[encoded data removed]",
            "text/plain": [
              "<Figure size 576x576 with 1 Axes>"
            ]
          },
          "metadata": {
            "tags": [],
            "needs_background": "light"
          }
        }
      ]
    },
    {
      "cell_type": "markdown",
      "metadata": {
        "id": "2FWeT261TzTP"
      },
      "source": [
        "\n",
        "$$ x = \\alpha v $$\n",
        "$$ v = [1,1]^t $$\n",
        "$$ (y-\\alpha v)^t v = 0 $$"
      ]
    },
    {
      "cell_type": "markdown",
      "metadata": {
        "id": "Ix4dMD78Q1UV"
      },
      "source": [
        "# **CONDITIONAL EXPECTATION AS PROJECTION**"
      ]
    },
    {
      "cell_type": "markdown",
      "metadata": {
        "id": "k8uukGDcVcu0"
      },
      "source": [
        "Important concept: The inner product between two random variables is ther expected join value\n",
        "\n",
        "\n",
        "$$ <X,Y> = \\mathbf{E}(XY)$$\n",
        "\n",
        "So a lot of optimization problems involving random variables boils down to:\n",
        "\n",
        "$$ <X - h_{opt}(Y),Y> = 0 $$"
      ]
    },
    {
      "cell_type": "markdown",
      "metadata": {
        "id": "sjMdVGjxWkPN"
      },
      "source": [
        "The conditional expectation is the minimum mean squared error (MMSE) solution to the following problem:\n",
        "\n",
        "$$min\\int_{\\mathbb{R}} (x-h(y))^2 f_{xy}(x,y) dx$$\n",
        "\n",
        "Ou seje, among all possibles h(y), find the one that minimizes the above expression, which is :\n",
        "\n",
        "$$h_{opt}(Y) = \\mathbf{E}(X|Y) $$"
      ]
    },
    {
      "cell_type": "markdown",
      "metadata": {
        "id": "EjnqZggrsdDx"
      },
      "source": [
        "A simple case: Whats the minimum c such that \n",
        "\n",
        "$$(X-c)^2 $$\n",
        "\n",
        "is minimum ? \n",
        "\n",
        "$$ E(X-c)^2 = E(X^2 - 2Xc + c^2) = c^2 - 2cE(X) + E(X^2) $$\n",
        "$$ \\frac{d}{dc} (c^2 - 2cE(X) + E(X^2)) = 0    $$\n",
        "$$ c = E(X) $$\n",
        "\n",
        "or , using dot product :\n",
        "\n",
        "$$ <X - c_{opt},1> = 0 $$\n",
        "$$ <X,1> - <c_{opt},1> = 0 =>  c = E(X)$$\n"
      ]
    },
    {
      "cell_type": "markdown",
      "metadata": {
        "id": "Pl-kQgF9Xz8G"
      },
      "source": [
        "Seja um vetor v pertencente a um espaço vetorial V , e u pertencente a um subespaço de V. De todos os elementos de U , aquele que minima : \n",
        "$$||v-u||^2$$\n",
        "\n",
        "é a projeção de v em u.\n",
        "\n",
        "$$ v = v_{u} + w , v_{u} \\in U , w \\in U^{\\perp} $$\n",
        "$$||v-u||^2 = <v-u,v-u> = <v_{u} - u + w, v_{u} - u + w>$$\n",
        "$$ <v_{u}-u,v_{u}-u> +2<v_{u}-u,w> +  <w,w> = ||v_{u} - u||^2 + ||w||^2 $$\n",
        "\n",
        "O minimo ocorre para :\n",
        "$$ u = v_{u} $$"
      ]
    },
    {
      "cell_type": "markdown",
      "metadata": {
        "id": "HW_jgpx5pJVF"
      },
      "source": [
        "**Example**\n",
        "\n",
        "\n",
        "Seja :\n",
        "\n",
        "$$ f_{xy} = x + y  , (x,y) \\in [0,1)^2$$\n",
        "$$ E(X|Y) = \\int_{0}^1 x \\frac{f_{xy}(x,y)}{f_{y}(y)} = \\int_{0}^1 x \\frac{x+y}{y+\\frac{1}{2}}  = \\frac{3y+2}{6y+3}$$\n",
        "\n",
        "The same could be found doing:\n",
        "\n",
        "$$ E((X-h(Y))Y) = 0 = \\int_{0}^1\\int_{0}^1(x-h(y))y(x+y)(x+y)dxdy = 0 $$\n",
        "\n",
        "The optimal h(Y) is:\n",
        "\n",
        "$$2y + 3y^2 - 3yh(y) - 6y^2h(y) = 0 $$\n",
        "$$ h_{opt} = \\frac{3y+2}{6y+3} $$"
      ]
    },
    {
      "cell_type": "markdown",
      "metadata": {
        "id": "FiOG8JWMsdq0"
      },
      "source": [
        "Lets find the length of the error function we found earlier for this example:\n",
        "\n",
        "$$ \\mathbf{E}(X - \\mathbf{E}(X|Y))^2 + \\mathbf{E}(\\mathbf{E}(X|Y))^2 = \\mathbf{E}(X)^2$$ "
      ]
    },
    {
      "cell_type": "code",
      "metadata": {
        "id": "Q5-KkrdzP3eI"
      },
      "source": [
        "from sympy.abc import y,x\n",
        "from sympy import integrate , simplify\n",
        "\n",
        "fxy = x+y\n",
        "fy = integrate(fxy,(x,0,1))\n",
        "fx = integrate(fxy,(y,0,1))\n",
        "\n",
        "EXY = (3*y+2)/(6*y+3)\n",
        "LHS = integrate((x-EXY)**2*fxy,(x,0,1),(y,0,1)) + integrate(EXY**2*fy,(y,0,1))\n",
        "RHS = integrate(x**2*fx,(x,0,1))\n"
      ],
      "execution_count": 5,
      "outputs": []
    },
    {
      "cell_type": "code",
      "metadata": {
        "id": "mEscJXW-udXK",
        "outputId": "d5f1aa98-ceda-459c-c811-0644a4a388a7",
        "colab": {
          "base_uri": "https://localhost:8080/",
          "height": 34
        }
      },
      "source": [
        "LHS"
      ],
      "execution_count": 6,
      "outputs": [
        {
          "output_type": "execute_result",
          "data": {
            "text/plain": [
              "5/12"
            ]
          },
          "metadata": {
            "tags": []
          },
          "execution_count": 6
        }
      ]
    },
    {
      "cell_type": "code",
      "metadata": {
        "id": "MVGe0C4OueG2",
        "outputId": "f59b5c2c-d302-42ea-a3e1-b29ffd149c70",
        "colab": {
          "base_uri": "https://localhost:8080/",
          "height": 34
        }
      },
      "source": [
        "RHS"
      ],
      "execution_count": 7,
      "outputs": [
        {
          "output_type": "execute_result",
          "data": {
            "text/plain": [
              "5/12"
            ]
          },
          "metadata": {
            "tags": []
          },
          "execution_count": 7
        }
      ]
    },
    {
      "cell_type": "markdown",
      "metadata": {
        "id": "m8uEATtfuzre"
      },
      "source": [
        "# **Conditional Expectation and Mean Squared Error**"
      ]
    },
    {
      "cell_type": "markdown",
      "metadata": {
        "id": "ivEoMDPRvVKg"
      },
      "source": [
        "\n",
        "Suppose we have two fair six sided dice (X and Y) and we want to measure the sum of the two variables as Z = X + Y. Further, let’s suppose that given Z, we want the best estimate of X in the mean squared-sense. Thus, we want to minimize the following:\n",
        "\n",
        "\n",
        "$$ J(\\alpha) = \\sum (x-\\alpha z)^2 P(x,z) $$\n",
        "$$ J(\\alpha) = \\sum (x-\\alpha (x+y))^2 P(x,z) $$"
      ]
    },
    {
      "cell_type": "code",
      "metadata": {
        "id": "6c8UxXvrvD9J",
        "outputId": "ac5398fc-69be-4514-d49d-a8ad5a848074",
        "colab": {
          "base_uri": "https://localhost:8080/",
          "height": 34
        }
      },
      "source": [
        "import sympy as S\n",
        "from sympy.stats import density, E, Die\n",
        "\n",
        "x = Die('D1',6)\n",
        "y = Die('D2',6)\n",
        "a = S.symbols('a')\n",
        "z = x+y\n",
        "J = E((x-a*(x+y))**2)\n",
        "print(S.simplify(J))"
      ],
      "execution_count": 16,
      "outputs": [
        {
          "output_type": "stream",
          "text": [
            "329*a**2/6 - 329*a/6 + 91/6\n"
          ],
          "name": "stdout"
        }
      ]
    },
    {
      "cell_type": "code",
      "metadata": {
        "id": "YJir9_C7w6uO",
        "outputId": "349e22bb-998f-4784-fa79-239f97fdf83e",
        "colab": {
          "base_uri": "https://localhost:8080/",
          "height": 34
        }
      },
      "source": [
        "sol = S.solve(S.diff(J,a),a) \n",
        "# using calculus to minimize\n",
        "print(sol)  # 1/2 , that is ,z/2 is as close to x as we are going to get for a given z."
      ],
      "execution_count": 17,
      "outputs": [
        {
          "output_type": "stream",
          "text": [
            "[1/2]\n"
          ],
          "name": "stdout"
        }
      ]
    },
    {
      "cell_type": "code",
      "metadata": {
        "id": "_6asVeEp1qBX",
        "outputId": "6ac81b07-6190-43a9-e504-99aa19d51eab",
        "colab": {
          "base_uri": "https://localhost:8080/",
          "height": 34
        }
      },
      "source": [
        "import numpy as np\n",
        "from sympy import stats\n",
        "# Eq constrains Z\n",
        "samples_z7 = lambda : stats.sample(x, S.Eq(z,7))\n",
        "#using 6 as an estimate\n",
        "mn= np.mean([(6-samples_z7())**2 for i in range(100)])\n",
        "#7/2 is the MSE estimate\n",
        "mn0= np.mean([(7/2.-samples_z7())**2 for i in range(100)])\n",
        "print('MSE=%3.2f using 6 vs MSE=%3.2f using 7/2 ' % (mn,mn0))\n"
      ],
      "execution_count": 18,
      "outputs": [
        {
          "output_type": "stream",
          "text": [
            "MSE=9.04 using 6 vs MSE=3.17 using 7/2 \n"
          ],
          "name": "stdout"
        }
      ]
    },
    {
      "cell_type": "markdown",
      "metadata": {
        "id": "mdFUnvK52pEE"
      },
      "source": [
        "Three coins, 10, 20 and 50p are tossed. The values of the coins that land heads up are totaled. What is the expected total given that two coins have landed heads up? In this case we have we want to compute E(ξ|η) where:\n",
        "\n",
        "\n",
        "$$\\epsilon = 10X_{10} + 20X_{20}+50X_{50} , X_{i} \\in (0,1)$$\n",
        "\n",
        "if only two heads up, then:\n",
        "\n",
        "$$\\eta = X_{10}X_{20}(1-X_{50}) + X_{10}X_{50}(1-X_{20}) + X_{20}X_{50}(1-X_{10})$$"
      ]
    },
    {
      "cell_type": "markdown",
      "metadata": {
        "id": "Yl3_8h0e3_48"
      },
      "source": [
        "So we want:\n",
        "\n",
        "$$ MSE = \\sum_{X \\in (0,1)^3}(\\epsilon - h(\\eta))^2$$"
      ]
    },
    {
      "cell_type": "markdown",
      "metadata": {
        "id": "gD_UW7zn5wC-"
      },
      "source": [
        "writing\n",
        "\n",
        "$$ h(\\eta) = \\alpha \\eta $$\n",
        "We already know that $\\eta_{opt}$ is the projection of $\\epsilon$ in $\\eta$\n",
        "\n",
        "$$ \\alpha = \\frac{<\\eta,\\epsilon>}{<\\eta,\\eta>} $$"
      ]
    },
    {
      "cell_type": "code",
      "metadata": {
        "id": "v-1970SF3_Dw",
        "outputId": "fe5e4e2f-2266-46ec-d571-4e4152a0903f",
        "colab": {
          "base_uri": "https://localhost:8080/",
          "height": 34
        }
      },
      "source": [
        "import sympy as S\n",
        "X10,X20,X50 = S.symbols('X10,X20,X50',real=True)\n",
        "xi = 10*X10+20*X20+50*X50\n",
        "eta = X10*X20*(1-X50)+X10*(1-X20)*(X50)+(1-X10)*X20*(X50)\n",
        "num=S.summation(xi*eta,(X10,0,1),(X20,0,1),(X50,0,1))\n",
        "den=S.summation(eta*eta,(X10,0,1),(X20,0,1),(X50,0,1))\n",
        "alpha=num/den\n",
        "\n",
        "print(alpha)  "
      ],
      "execution_count": 20,
      "outputs": [
        {
          "output_type": "stream",
          "text": [
            "160/3\n"
          ],
          "name": "stdout"
        }
      ]
    },
    {
      "cell_type": "markdown",
      "metadata": {
        "id": "feQLdh-27z8u"
      },
      "source": [
        " $$\\mathbf{E}(\\epsilon|\\eta) = \\frac{160}{3}\\eta = 53.33\\eta$$"
      ]
    },
    {
      "cell_type": "markdown",
      "metadata": {
        "id": "1XuumrMR8VL2"
      },
      "source": [
        "Doing a little motherfucker simulation using pandas :"
      ]
    },
    {
      "cell_type": "code",
      "metadata": {
        "id": "Pk-7So-i7zB2",
        "outputId": "a3d160c5-bc7c-4d63-bd1f-520068b7d6f4",
        "colab": {
          "base_uri": "https://localhost:8080/",
          "height": 34
        }
      },
      "source": [
        "import pandas as pd\n",
        "d = pd.DataFrame(columns = ['X10','X20','X50'])\n",
        "d.X10 = np.random.randint(0,2,1000)\n",
        "d.X20 = np.random.randint(0,2,1000)\n",
        "d.X50 = np.random.randint(0,2,1000)\n",
        "grp = d.groupby(d.eval('X10+X20+X50'))\n",
        "grp.get_group(2).eval('10*X10 + 20*X20 + 50*X50').mean()"
      ],
      "execution_count": 26,
      "outputs": [
        {
          "output_type": "execute_result",
          "data": {
            "text/plain": [
              "54.45333333333333"
            ]
          },
          "metadata": {
            "tags": []
          },
          "execution_count": 26
        }
      ]
    },
    {
      "cell_type": "markdown",
      "metadata": {
        "id": "26DYQw9w-tRP"
      },
      "source": [
        "Or using pure numpy"
      ]
    },
    {
      "cell_type": "code",
      "metadata": {
        "id": "FPycplLp-slr",
        "outputId": "b64f5b3c-05c2-4a2c-de4f-71f2f21f6e43",
        "colab": {
          "base_uri": "https://localhost:8080/",
          "height": 34
        }
      },
      "source": [
        "import numpy as np\n",
        "from numpy import array\n",
        "x = np.random.randint(0,2,(3,1000))\n",
        "mu = np.dot(x[:,x.sum(axis=0)==2].T,array([10,20,50])).mean()\n",
        "mu"
      ],
      "execution_count": 8,
      "outputs": [
        {
          "output_type": "execute_result",
          "data": {
            "text/plain": [
              "53.70473537604457"
            ]
          },
          "metadata": {
            "tags": []
          },
          "execution_count": 8
        }
      ]
    }
  ]
}