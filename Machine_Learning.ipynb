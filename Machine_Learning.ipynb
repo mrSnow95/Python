{
  "nbformat": 4,
  "nbformat_minor": 0,
  "metadata": {
    "colab": {
      "name": "Machine Learning.ipynb",
      "provenance": [],
      "authorship_tag": "ABX9TyPu06wIiV7dDqpqf5Q//gZT",
      "include_colab_link": true
    },
    "kernelspec": {
      "name": "python3",
      "display_name": "Python 3"
    }
  },
  "cells": [
    {
      "cell_type": "markdown",
      "metadata": {
        "id": "view-in-github",
        "colab_type": "text"
      },
      "source": [
        "<a href=\"https://colab.research.google.com/github/mrSnow95/Python/blob/master/Machine_Learning.ipynb\" target=\"_parent\"><img src=\"https://colab.research.google.com/assets/colab-badge.svg\" alt=\"Open In Colab\"/></a>"
      ]
    },
    {
      "cell_type": "markdown",
      "metadata": {
        "id": "G9YwhBjgqIcC"
      },
      "source": [
        "# **Regularization**"
      ]
    },
    {
      "cell_type": "markdown",
      "metadata": {
        "id": "NrqKRR_ZUgtt"
      },
      "source": [
        "Regularization is the mechanism by which we navigate the bias/variance trade-off"
      ]
    },
    {
      "cell_type": "markdown",
      "metadata": {
        "id": "jSPR5bV4UvHi"
      },
      "source": [
        "minimize  $\\hspace{0.1cm} || x ||_{2}^2 $ subject to $x_{0} + 2x_{1} = 1$ where $ || x_{2}|| = \\sqrt{x_0^2 + x_{1}^2} $"
      ]
    },
    {
      "cell_type": "code",
      "metadata": {
        "id": "0ZKCPqGRqHhM",
        "outputId": "7104e1e9-5ac4-442a-b765-64e09936f3b1",
        "colab": {
          "base_uri": "https://localhost:8080/",
          "height": 623
        }
      },
      "source": [
        "from matplotlib import pyplot as plt\n",
        "from matplotlib.patches import Circle,Rectangle\n",
        "\n",
        "\n",
        "x = np.linspace(-1,1,100)\n",
        "y = 0.5 - 0.5*x\n",
        "\n",
        "fig, ax = plt.subplots(figsize =(10, 10)) \n",
        "\n",
        "circle = Circle((0,0),0.44,alpha = 0.1,color = 'black')\n",
        "square = Rectangle((0.2,0.39),0.05,0.05,color = 'black')\n",
        "circle2 = Circle((0.14,0.45),0.04,alpha = 0.1,color = 'black')\n",
        "\n",
        "ax.add_patch(square)\n",
        "ax.add_patch(circle)\n",
        "ax.add_patch(circle2)\n",
        "\n",
        "x2 = x[x<2]\n",
        "plt.xlabel('x0')\n",
        "plt.ylabel('x1')\n",
        "plt.plot(x,y,'b')\n"
      ],
      "execution_count": 80,
      "outputs": [
        {
          "output_type": "execute_result",
          "data": {
            "text/plain": [
              "[<matplotlib.lines.Line2D at 0x7f01c9f43278>]"
            ]
          },
          "metadata": {
            "tags": []
          },
          "execution_count": 80
        },
        {
          "output_type": "display_data",
          "data": {
            "image/png": "[encoded data removed]",
            "text/plain": [
              "<Figure size 720x720 with 1 Axes>"
            ]
          },
          "metadata": {
            "tags": [],
            "needs_background": "light"
          }
        }
      ]
    },
    {
      "cell_type": "markdown",
      "metadata": {
        "id": "lOt-7CJkXCRM"
      },
      "source": [
        "So, to find a minimal solution, we inflate the ball until it finds a sparse solution. But, there are solutions that are very close to our optimal point"
      ]
    },
    {
      "cell_type": "code",
      "metadata": {
        "id": "ThtQDw0KXPJC",
        "outputId": "30497495-bcd9-4b39-e453-49f44940223d",
        "colab": {
          "base_uri": "https://localhost:8080/",
          "height": 34
        }
      },
      "source": [
        "#Lagrange Multipliers\n",
        "\n",
        "import sympy as S\n",
        "S.var('x1,x0,l',real = True)\n",
        "J = S.Matrix([x0,x1]).norm()**2 +l*(1-x0-2*x1)\n",
        "sol = S.solve(map(J.diff,[x0,x1,l]))\n",
        "print(sol) \n"
      ],
      "execution_count": 41,
      "outputs": [
        {
          "output_type": "stream",
          "text": [
            "{l: 2/5, x0: 1/5, x1: 2/5}\n"
          ],
          "name": "stdout"
        }
      ]
    },
    {
      "cell_type": "markdown",
      "metadata": {
        "id": "gxEUGT9oZgx6"
      },
      "source": [
        "Now :\n",
        "minimize  $\\hspace{0.1cm} || x ||_{1} $ subject to $x_{0} + 2x_{1} = 1$ where $ || x||_{1} = \\sum_{i=1}^d |x_{i}|$"
      ]
    },
    {
      "cell_type": "code",
      "metadata": {
        "id": "V_S1hJQ-ZNRd",
        "outputId": "84191404-8589-42bd-bbf4-7a3e68ea7158",
        "colab": {
          "base_uri": "https://localhost:8080/",
          "height": 34
        }
      },
      "source": [
        "from cvxpy import Variable, Problem , Minimize , norm1 , norm\n",
        "\n",
        "x = Variable((2,1),name = 'x')\n",
        "constr = [np.matrix([[1,2]])*x == 1 ]\n",
        "obj=Minimize(norm1(x))\n",
        "p = Problem(obj,constr)\n",
        "p.solve()\n"
      ],
      "execution_count": 42,
      "outputs": [
        {
          "output_type": "execute_result",
          "data": {
            "text/plain": [
              "0.49999999996804073"
            ]
          },
          "metadata": {
            "tags": []
          },
          "execution_count": 42
        }
      ]
    },
    {
      "cell_type": "code",
      "metadata": {
        "id": "d7n0RXwmb4VS",
        "outputId": "a1e3c016-40ec-4c13-a6a9-dc977bd1f600",
        "colab": {
          "base_uri": "https://localhost:8080/",
          "height": 51
        }
      },
      "source": [
        "print(x.value)"
      ],
      "execution_count": 43,
      "outputs": [
        {
          "output_type": "stream",
          "text": [
            "[[6.2034426e-10]\n",
            " [5.0000000e-01]]\n"
          ],
          "name": "stdout"
        }
      ]
    },
    {
      "cell_type": "code",
      "metadata": {
        "id": "zb1KassocFVX",
        "outputId": "9a018d41-143e-42c5-a51d-2b3e6443c921",
        "colab": {
          "base_uri": "https://localhost:8080/",
          "height": 623
        }
      },
      "source": [
        "from matplotlib import pyplot as plt\n",
        "from matplotlib.patches import Circle,Rectangle\n",
        "import matplotlib as mlp\n",
        "\n",
        "x = np.linspace(-1,1,100)\n",
        "y = 0.5 - 0.5*x\n",
        "\n",
        "fig, ax = plt.subplots(figsize =(10, 10)) \n",
        "r2 = Rectangle((-0.35,-0.35), 0.7, 0.7, color=\"gray\",  alpha=0.50)\n",
        "t2 = mlp.transforms.Affine2D().rotate_deg(-45) + ax.transData\n",
        "r2.set_transform(t2)\n",
        "ax.add_patch(r2)\n",
        "\n",
        "\n",
        "plt.xlabel('x0')\n",
        "plt.ylabel('x1')\n",
        "plt.plot(x,y,'b')"
      ],
      "execution_count": 65,
      "outputs": [
        {
          "output_type": "execute_result",
          "data": {
            "text/plain": [
              "[<matplotlib.lines.Line2D at 0x7f01ca60bf60>]"
            ]
          },
          "metadata": {
            "tags": []
          },
          "execution_count": 65
        },
        {
          "output_type": "display_data",
          "data": {
            "image/png": "[encoded data removed]",
            "text/plain": [
              "<Figure size 720x720 with 1 Axes>"
            ]
          },
          "metadata": {
            "tags": [],
            "needs_background": "light"
          }
        }
      ]
    },
    {
      "cell_type": "markdown",
      "metadata": {
        "id": "aq00ECDKemiB"
      },
      "source": [
        "Different from the $L_{2}$ norm, in this case we have only one optimal point."
      ]
    },
    {
      "cell_type": "code",
      "metadata": {
        "id": "gJv6G-wmgb1X",
        "outputId": "fe3fcddb-78b4-48cd-d792-13e8f2185842",
        "colab": {
          "base_uri": "https://localhost:8080/",
          "height": 34
        }
      },
      "source": [
        "#lets double check the L2 norm\n",
        "from cvxpy import Variable, Problem , Minimize , norm1 , norm\n",
        "\n",
        "x = Variable((2,1),name = 'x')\n",
        "constr = [np.matrix([[1,2]])*x == 1 ]\n",
        "obj=Minimize(norm(x,2))\n",
        "p = Problem(obj,constr)\n",
        "p.solve()"
      ],
      "execution_count": 82,
      "outputs": [
        {
          "output_type": "execute_result",
          "data": {
            "text/plain": [
              "0.447213595357866"
            ]
          },
          "metadata": {
            "tags": []
          },
          "execution_count": 82
        }
      ]
    },
    {
      "cell_type": "code",
      "metadata": {
        "id": "S3Q1tWmHgrCX",
        "outputId": "4ca5f001-e669-487c-fe79-f6f629e05db3",
        "colab": {
          "base_uri": "https://localhost:8080/",
          "height": 51
        }
      },
      "source": [
        "print(x.value) # same as before"
      ],
      "execution_count": 83,
      "outputs": [
        {
          "output_type": "stream",
          "text": [
            "[[0.2]\n",
            " [0.4]]\n"
          ],
          "name": "stdout"
        }
      ]
    },
    {
      "cell_type": "code",
      "metadata": {
        "id": "oSUqRO3lgxmG",
        "outputId": "68423e70-e248-4400-e38b-afe608e8d892",
        "colab": {
          "base_uri": "https://localhost:8080/",
          "height": 34
        }
      },
      "source": [
        "#higher dimensions \n",
        "x = Variable((4,1),name = 'x')\n",
        "constr = [np.matrix([[1,2,3,4]])*x == 1 ]\n",
        "obj=Minimize(norm1(x))\n",
        "p = Problem(obj,constr)\n",
        "p.solve()\n",
        "\n"
      ],
      "execution_count": 84,
      "outputs": [
        {
          "output_type": "execute_result",
          "data": {
            "text/plain": [
              "0.2499999991355072"
            ]
          },
          "metadata": {
            "tags": []
          },
          "execution_count": 84
        }
      ]
    },
    {
      "cell_type": "code",
      "metadata": {
        "id": "uVX_K41akeF9",
        "outputId": "b46b7252-25b7-41fc-82a8-b24a094e3f2d",
        "colab": {
          "base_uri": "https://localhost:8080/",
          "height": 85
        }
      },
      "source": [
        "print(x.value) # same as before"
      ],
      "execution_count": 85,
      "outputs": [
        {
          "output_type": "stream",
          "text": [
            "[[3.88487210e-10]\n",
            " [8.33295420e-10]\n",
            " [7.97158511e-10]\n",
            " [2.49999999e-01]]\n"
          ],
          "name": "stdout"
        }
      ]
    },
    {
      "cell_type": "code",
      "metadata": {
        "id": "8YKaFnrxlxJq",
        "outputId": "14a2a582-48ad-471a-d6ce-c9e6b3dbff6e",
        "colab": {
          "base_uri": "https://localhost:8080/",
          "height": 34
        }
      },
      "source": [
        "#higher dimensions \n",
        "x = Variable((4,1),name = 'x')\n",
        "constr = [np.matrix([[1,2,3,4]])*x == 1 ]\n",
        "obj=Minimize(norm(x,2))\n",
        "p = Problem(obj,constr)\n",
        "p.solve()\n",
        "\n"
      ],
      "execution_count": 86,
      "outputs": [
        {
          "output_type": "execute_result",
          "data": {
            "text/plain": [
              "0.18257418572129216"
            ]
          },
          "metadata": {
            "tags": []
          },
          "execution_count": 86
        }
      ]
    },
    {
      "cell_type": "code",
      "metadata": {
        "id": "uYlAkn0ol0c9",
        "outputId": "9093cb07-627f-41bd-d614-8b0f01ca1c25",
        "colab": {
          "base_uri": "https://localhost:8080/",
          "height": 85
        }
      },
      "source": [
        "print(x.value)"
      ],
      "execution_count": 87,
      "outputs": [
        {
          "output_type": "stream",
          "text": [
            "[[0.03333333]\n",
            " [0.06666667]\n",
            " [0.1       ]\n",
            " [0.13333333]]\n"
          ],
          "name": "stdout"
        }
      ]
    },
    {
      "cell_type": "markdown",
      "metadata": {
        "id": "Y2csSP94l5cD"
      },
      "source": [
        "# **THE NORM $L_{1}$ GIVES A SOLUTION MORE SPARSE THAN $L_{2}$,which is the main beneﬁt of using the $L_{1}$ norm**"
      ]
    },
    {
      "cell_type": "markdown",
      "metadata": {
        "id": "DTsI_WyFnO59"
      },
      "source": [
        "$$ min_{\\beta \\in \\mathbb{R}^p } || y - X \\beta ||$$\n",
        "$$ X = [x_{1},x_{2},...,x_{p}] \\hspace{0.5cm} , X_{i} \\in \\mathbb{R}^n ,rank(X)= p$$\n",
        "se $p=n$ , there is a unique solution , if $p < n$ , then there are infinitely many solutions"
      ]
    },
    {
      "cell_type": "code",
      "metadata": {
        "id": "OrA6t4mJmuMD",
        "outputId": "417a8f5d-e1c6-47fd-b87b-f8e6e24d739d",
        "colab": {
          "base_uri": "https://localhost:8080/",
          "height": 85
        }
      },
      "source": [
        "import sympy as S\n",
        "from sympy import Matrix\n",
        "\n",
        "X = Matrix([[1,2,3],\n",
        "            [3,4,5]])\n",
        "y = Matrix([[1,2]]).T\n",
        "b0,b1,b2 = S.symbols('b:3',real = True)\n",
        "beta = Matrix([[b0,b1,b2]]).T\n",
        "obj = (y -X*beta).norm(ord=2)**2\n",
        "\n",
        "sol = S.solve([obj.diff(i) for i in beta])\n",
        "beta.subs(sol)"
      ],
      "execution_count": 89,
      "outputs": [
        {
          "output_type": "execute_result",
          "data": {
            "text/plain": [
              "Matrix([\n",
              "[         b2],\n",
              "[-2*b2 + 1/2],\n",
              "[         b2]])"
            ]
          },
          "metadata": {
            "tags": []
          },
          "execution_count": 89
        }
      ]
    },
    {
      "cell_type": "markdown",
      "metadata": {
        "id": "6JIMGLOZqAXc"
      },
      "source": [
        "Notice that the solution does not uniquely specify all the components of the beta variable. This is a consequence of the $p < n$ nature of this problem where $p = 2$ and $n =3$. While the existence of this ambiguity does not alter the solution."
      ]
    },
    {
      "cell_type": "code",
      "metadata": {
        "id": "yME3IG0LqPIM",
        "outputId": "52dbc7aa-b390-4e3f-dfd4-367376292fb8",
        "colab": {
          "base_uri": "https://localhost:8080/",
          "height": 34
        }
      },
      "source": [
        "obj.subs(sol)"
      ],
      "execution_count": 90,
      "outputs": [
        {
          "output_type": "execute_result",
          "data": {
            "text/plain": [
              "0"
            ]
          },
          "metadata": {
            "tags": []
          },
          "execution_count": 90
        }
      ]
    },
    {
      "cell_type": "code",
      "metadata": {
        "id": "qk-JcCv5qRMc",
        "outputId": "bdebdcc5-2610-4ec8-92e8-6a7e33b6aa55",
        "colab": {
          "base_uri": "https://localhost:8080/",
          "height": 34
        }
      },
      "source": [
        "beta.subs(sol).norm(2)"
      ],
      "execution_count": 91,
      "outputs": [
        {
          "output_type": "execute_result",
          "data": {
            "text/plain": [
              "sqrt(2*b2**2 + (2*b2 - 1/2)**2)"
            ]
          },
          "metadata": {
            "tags": []
          },
          "execution_count": 91
        }
      ]
    },
    {
      "cell_type": "code",
      "metadata": {
        "id": "wdiaaVzksD3M",
        "outputId": "09368423-e4a0-4917-b1cd-8bf967f8e6a3",
        "colab": {
          "base_uri": "https://localhost:8080/",
          "height": 85
        }
      },
      "source": [
        "S.solve((beta.subs(sol).norm()**2).diff())\n",
        "betaL2=beta.subs(sol).subs(b2,S.Rational(1,6))\n",
        "betaL2"
      ],
      "execution_count": 97,
      "outputs": [
        {
          "output_type": "execute_result",
          "data": {
            "text/plain": [
              "Matrix([\n",
              "[1/6],\n",
              "[1/6],\n",
              "[1/6]])"
            ]
          },
          "metadata": {
            "tags": []
          },
          "execution_count": 97
        }
      ]
    },
    {
      "cell_type": "code",
      "metadata": {
        "id": "mRiQYQ7BuSqZ",
        "outputId": "7dc6cd06-d0f0-4f4a-b367-f355bb2873fb",
        "colab": {
          "base_uri": "https://localhost:8080/",
          "height": 34
        }
      },
      "source": [
        "obj.subs(beta,betaL2)"
      ],
      "execution_count": 101,
      "outputs": [
        {
          "output_type": "execute_result",
          "data": {
            "text/plain": [
              "(b0 + 2*b1 + 3*b2 - 1)**2 + (3*b0 + 4*b1 + 5*b2 - 2)**2"
            ]
          },
          "metadata": {
            "tags": []
          },
          "execution_count": 101
        }
      ]
    },
    {
      "cell_type": "markdown",
      "metadata": {
        "id": "PqXiGd_LsgeW"
      },
      "source": [
        "But what is so special about solutions of minimum length? For machine learning, driving the objective function to zero is symptomatic of over ﬁtting the data.Usually, at the zero bound,the machine learning method has essentially memorized the training data, which is bad for generalization."
      ]
    },
    {
      "cell_type": "markdown",
      "metadata": {
        "id": "26GHuaX8s-iC"
      },
      "source": [
        "$$ minimize_{\\beta} \\hspace{0.5cm} ||y - X\\beta||_{2}^2$$\n",
        "subject to \n",
        "$$||\\beta||_{2} < c , \\hspace{0.1cm} $$where c is the tuning parameter"
      ]
    },
    {
      "cell_type": "markdown",
      "metadata": {
        "id": "eNo7qBv7t_hc"
      },
      "source": [
        "# **Ridge Regression**"
      ]
    },
    {
      "cell_type": "markdown",
      "metadata": {
        "id": "61wXdG6htnIJ"
      },
      "source": [
        "$$ min_{\\beta \\in \\mathbb{R}^p } || y - X \\beta || + \\alpha ||\\beta||_{2}^2$$\n",
        "\n"
      ]
    },
    {
      "cell_type": "code",
      "metadata": {
        "id": "r5YKjoTosaNR",
        "outputId": "2d5ba219-a47c-4f28-b88e-900e21d2ec5a",
        "colab": {
          "base_uri": "https://localhost:8080/",
          "height": 51
        }
      },
      "source": [
        "from sklearn.linear_model import Ridge\n",
        "clf = Ridge(alpha=100.0,fit_intercept = False)\n",
        "clf.fit(np.array(X).astype(float),np.array(y).astype(float))"
      ],
      "execution_count": 103,
      "outputs": [
        {
          "output_type": "execute_result",
          "data": {
            "text/plain": [
              "Ridge(alpha=100.0, copy_X=True, fit_intercept=False, max_iter=None,\n",
              "      normalize=False, random_state=None, solver='auto', tol=0.001)"
            ]
          },
          "metadata": {
            "tags": []
          },
          "execution_count": 103
        }
      ]
    }
  ]
}