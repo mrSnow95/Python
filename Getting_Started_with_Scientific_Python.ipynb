{
  "nbformat": 4,
  "nbformat_minor": 0,
  "metadata": {
    "colab": {
      "name": "Getting Started with Scientific Python.ipynb",
      "provenance": [],
      "collapsed_sections": [],
      "authorship_tag": "ABX9TyPGPeJSpjIZqWWq5EmR9oey",
      "include_colab_link": true
    },
    "kernelspec": {
      "name": "python3",
      "display_name": "Python 3"
    }
  },
  "cells": [
    {
      "cell_type": "markdown",
      "metadata": {
        "id": "view-in-github",
        "colab_type": "text"
      },
      "source": [
        "<a href=\"https://colab.research.google.com/github/mrSnow95/Python/blob/master/Getting_Started_with_Scientific_Python.ipynb\" target=\"_parent\"><img src=\"https://colab.research.google.com/assets/colab-badge.svg\" alt=\"Open In Colab\"/></a>"
      ]
    },
    {
      "cell_type": "code",
      "metadata": {
        "id": "iKrxRgZKGCGV",
        "outputId": "28faa895-c5c1-458f-96df-3dd98dc12088",
        "colab": {
          "base_uri": "https://localhost:8080/",
          "height": 17
        }
      },
      "source": [
        "import numpy as np\n",
        "from IPython.display import Math, HTML\n",
        "display(HTML(\"<script src='https://cdnjs.cloudflare.com/ajax/libs/mathjax/2.7.3/\"\n",
        "               \"latest.js?config=default'></script>\"))"
      ],
      "execution_count": null,
      "outputs": [
        {
          "output_type": "display_data",
          "data": {
            "text/html": [
              "<script src='https://cdnjs.cloudflare.com/ajax/libs/mathjax/2.7.3/latest.js?config=default'></script>"
            ],
            "text/plain": [
              "<IPython.core.display.HTML object>"
            ]
          },
          "metadata": {
            "tags": []
          }
        }
      ]
    },
    {
      "cell_type": "markdown",
      "metadata": {
        "id": "rOgQD_i_rsky"
      },
      "source": [
        "# **Numpy Arrays** "
      ]
    },
    {
      "cell_type": "code",
      "metadata": {
        "id": "3Nl-f9CMV31u",
        "outputId": "08cf1d8f-997e-44f3-a305-6ec28efe5195",
        "colab": {
          "base_uri": "https://localhost:8080/",
          "height": 34
        }
      },
      "source": [
        "x = np.array([1,2,3],dtype = np.float64)\n",
        "x.itemsize #bytes of each element"
      ],
      "execution_count": null,
      "outputs": [
        {
          "output_type": "execute_result",
          "data": {
            "text/plain": [
              "8"
            ]
          },
          "metadata": {
            "tags": []
          },
          "execution_count": 48
        }
      ]
    },
    {
      "cell_type": "markdown",
      "metadata": {
        "id": "t1vt1WIikFPd"
      },
      "source": [
        "Numpy uses unary function:"
      ]
    },
    {
      "cell_type": "code",
      "metadata": {
        "id": "Vcj1tRRIV1CO",
        "outputId": "deee58e8-a0fb-4755-ac67-216809ef71ca",
        "colab": {
          "base_uri": "https://localhost:8080/",
          "height": 51
        }
      },
      "source": [
        "x = np.sin(np.array([1,2,3],dtype = np.float32))\n",
        "#instead of, which is also slower \n",
        "from math import sin\n",
        "y = [sin(i) for i in [1,2,3]]\n",
        "\n",
        "print(x)\n",
        "print(y)"
      ],
      "execution_count": null,
      "outputs": [
        {
          "output_type": "stream",
          "text": [
            "[0.84147096 0.9092974  0.14112   ]\n",
            "[0.8414709848078965, 0.9092974268256817, 0.1411200080598672]\n"
          ],
          "name": "stdout"
        }
      ]
    },
    {
      "cell_type": "markdown",
      "metadata": {
        "id": "xcNju36zlFqf"
      },
      "source": [
        "Numpy arrays follow the usual Python slicing rules in multiple dimensions as shown below where the : colon character selects all elements along a particular axis."
      ]
    },
    {
      "cell_type": "code",
      "metadata": {
        "id": "8NyX8veXkxNp",
        "outputId": "55d21a40-95f3-433f-f2d1-a5d3b27f8d61",
        "colab": {
          "base_uri": "https://localhost:8080/",
          "height": 119
        }
      },
      "source": [
        "x = np.array([ [1,2,3],[4,5,6]])\n",
        "print(x[:,0])\n",
        "print(x[0,:])\n",
        "print(x[:,::2])\n",
        "print(x[:,::-1])"
      ],
      "execution_count": null,
      "outputs": [
        {
          "output_type": "stream",
          "text": [
            "[1 4]\n",
            "[1 2 3]\n",
            "[[1 3]\n",
            " [4 6]]\n",
            "[[3 2 1]\n",
            " [6 5 4]]\n"
          ],
          "name": "stdout"
        }
      ]
    },
    {
      "cell_type": "markdown",
      "metadata": {
        "id": "3rSqoRhamOUh"
      },
      "source": [
        "Numpy uses pass-by- reference semantics so that slice operations are views into the array without implicit copying. This is particularly helpful with large arrays that already strain available memory. In Numpy terminology, slicing creates views (no copying) and advanced indexing creates copies.\n",
        "\n"
      ]
    },
    {
      "cell_type": "code",
      "metadata": {
        "id": "_-WmgiGZmdCs",
        "outputId": "7eee5a12-d9d9-4087-81d2-970a1ebd9d34",
        "colab": {
          "base_uri": "https://localhost:8080/",
          "height": 187
        }
      },
      "source": [
        "x = np.array([[1,2,3],[4,5,6],[7,8,9]])\n",
        "y = x[:,[0,1,2,2]] # advanced indexing --> creates new copy\n",
        "z = x[:,0] #a reference to x\n",
        "print(y)\n",
        "x[0,0] = 9999\n",
        "print(x)\n",
        "print(y)\n",
        "print(z)\n"
      ],
      "execution_count": null,
      "outputs": [
        {
          "output_type": "stream",
          "text": [
            "[[1 2 3 3]\n",
            " [4 5 6 6]\n",
            " [7 8 9 9]]\n",
            "[[9999    2    3]\n",
            " [   4    5    6]\n",
            " [   7    8    9]]\n",
            "[[1 2 3 3]\n",
            " [4 5 6 6]\n",
            " [7 8 9 9]]\n",
            "[9999    4    7]\n"
          ],
          "name": "stdout"
        }
      ]
    },
    {
      "cell_type": "markdown",
      "metadata": {
        "id": "gFyuaCNmoEL8"
      },
      "source": [
        "Note that if you want to explicitly force a copy without any indexing tricks, you can do y=x.copy(). The code below works through another example of advanced indexing versus slicing.\n"
      ]
    },
    {
      "cell_type": "code",
      "metadata": {
        "id": "8kpvegVYn8Kx",
        "outputId": "d14c212e-1e63-4fe9-af31-4505808748ab",
        "colab": {
          "base_uri": "https://localhost:8080/",
          "height": 119
        }
      },
      "source": [
        "x = np.arange(5)\n",
        "print(x)\n",
        "y = x[[0,1,2]]\n",
        "print(y)\n",
        "z = x[:3]\n",
        "print(z)\n",
        "x[0] = 99999\n",
        "print(x)\n",
        "print(y) #unaffected\n",
        "print(z)"
      ],
      "execution_count": null,
      "outputs": [
        {
          "output_type": "stream",
          "text": [
            "[0 1 2 3 4]\n",
            "[0 1 2]\n",
            "[0 1 2]\n",
            "[99999     1     2     3     4]\n",
            "[0 1 2]\n",
            "[99999     1     2]\n"
          ],
          "name": "stdout"
        }
      ]
    },
    {
      "cell_type": "markdown",
      "metadata": {
        "id": "03aojKf7osQR"
      },
      "source": [
        "Manipulating memory using views is particularly powerful for signal and image processing algorithms that require overlapping fragments of memory. The following is an example of how to use advanced Numpy to create overlapping blocks that do not actually consume additional memory.  The important part is that memory is re-used in the resulting 7x4 Numpy array."
      ]
    },
    {
      "cell_type": "code",
      "metadata": {
        "id": "TsEurUZVolsy"
      },
      "source": [
        "from numpy.lib.stride_tricks import as_strided"
      ],
      "execution_count": null,
      "outputs": []
    },
    {
      "cell_type": "code",
      "metadata": {
        "id": "s8MowHnlo1YA",
        "outputId": "1c9eeff7-58e0-42e4-c9e6-9ed03f985b99",
        "colab": {
          "base_uri": "https://localhost:8080/",
          "height": 153
        }
      },
      "source": [
        "x = np.arange(16,dtype = np.int64) #8 byte int\n",
        "y = as_strided(x,(7,4),(16,8)) #offset of 16 bytes in j , 8 bytes in i dimension (move from x to x+1 in row,x to x+2 in col)\n",
        "print(x)\n",
        "print(y)"
      ],
      "execution_count": null,
      "outputs": [
        {
          "output_type": "stream",
          "text": [
            "[ 0  1  2  3  4  5  6  7  8  9 10 11 12 13 14 15]\n",
            "[[ 0  1  2  3]\n",
            " [ 2  3  4  5]\n",
            " [ 4  5  6  7]\n",
            " [ 6  7  8  9]\n",
            " [ 8  9 10 11]\n",
            " [10 11 12 13]\n",
            " [12 13 14 15]]\n"
          ],
          "name": "stdout"
        }
      ]
    },
    {
      "cell_type": "code",
      "metadata": {
        "id": "gWh-JLYLqQKr",
        "outputId": "2a21ce35-42dd-49ba-e020-f32acf64c3e9",
        "colab": {
          "base_uri": "https://localhost:8080/",
          "height": 136
        }
      },
      "source": [
        "#same memory shared\n",
        "x[0] = 999999\n",
        "print(y)"
      ],
      "execution_count": null,
      "outputs": [
        {
          "output_type": "stream",
          "text": [
            "[[999999      1      2      3]\n",
            " [     2      3      4      5]\n",
            " [     4      5      6      7]\n",
            " [     6      7      8      9]\n",
            " [     8      9     10     11]\n",
            " [    10     11     12     13]\n",
            " [    12     13     14     15]]\n"
          ],
          "name": "stdout"
        }
      ]
    },
    {
      "cell_type": "markdown",
      "metadata": {
        "id": "ZG0qKKzGqm8z"
      },
      "source": [
        "as_strided does not check that you stay within memory block bounds."
      ]
    },
    {
      "cell_type": "code",
      "metadata": {
        "id": "BPHs37BeqYFs"
      },
      "source": [
        "def _as_strided(x,k):\n",
        "  return as_strided(x,(k,n-k+1),(x.itemsize,)*2)\n",
        "\n",
        "\n",
        "n = 8\n",
        "x = np.arange(n)\n",
        "k = 5 #number of rows desired\n",
        "y = _as_strided(x,5)"
      ],
      "execution_count": null,
      "outputs": []
    },
    {
      "cell_type": "markdown",
      "metadata": {
        "id": "v2Bk-Zckrrzj"
      },
      "source": [
        "# **Numpy Matrices**"
      ]
    },
    {
      "cell_type": "markdown",
      "metadata": {
        "id": "dox4UNI_r09A"
      },
      "source": [
        "Matrices in Numpy are similar to Numpy arrays but they can only have two dimensions. They implement row–column matrix multiplication as opposed to element- wise multiplication."
      ]
    },
    {
      "cell_type": "code",
      "metadata": {
        "id": "W_nqeLiVr2Fd",
        "outputId": "ebcd9c42-6b2d-455b-84d6-b8d1a82603e9",
        "colab": {
          "base_uri": "https://localhost:8080/",
          "height": 68
        }
      },
      "source": [
        "A = np.matrix([[1,2,3],[4,5,6],[7,8,9]])\n",
        "x = np.matrix([[1],[0],[0]])\n",
        "print(A @ x)"
      ],
      "execution_count": null,
      "outputs": [
        {
          "output_type": "stream",
          "text": [
            "[[1]\n",
            " [4]\n",
            " [7]]\n"
          ],
          "name": "stdout"
        }
      ]
    },
    {
      "cell_type": "markdown",
      "metadata": {
        "id": "nzMh-dS1tCvl"
      },
      "source": [
        "It is unnecessary to cast all multiplicands to matrices for multiplication."
      ]
    },
    {
      "cell_type": "code",
      "metadata": {
        "id": "V_RRnMSdsYiG",
        "outputId": "6bf2a4f0-b05f-4b17-b2ff-eb0632136965",
        "colab": {
          "base_uri": "https://localhost:8080/",
          "height": 136
        }
      },
      "source": [
        "A = np.ones((3,3)) #np array\n",
        "print(type(A))\n",
        "x = np.ones((3,1))\n",
        "print(A*x) #element-wise\n",
        "print(np.matrix(A,copy=False)*x) #unnecessary to cast x"
      ],
      "execution_count": null,
      "outputs": [
        {
          "output_type": "stream",
          "text": [
            "<class 'numpy.ndarray'>\n",
            "[[1. 1. 1.]\n",
            " [1. 1. 1.]\n",
            " [1. 1. 1.]]\n",
            "[[3.]\n",
            " [3.]\n",
            " [3.]]\n"
          ],
          "name": "stdout"
        }
      ]
    },
    {
      "cell_type": "markdown",
      "metadata": {
        "id": "Its3PdgYs0U1"
      },
      "source": [
        "# **Numpy Broadcasting** "
      ]
    },
    {
      "cell_type": "markdown",
      "metadata": {
        "id": "kVGxqpIAs4Hn"
      },
      "source": [
        "Numpy broadcasting is a powerful way to make implicit multidimensional grids for expressions. It is probably the single most powerful feature of Numpy and the most difficult to grasp. Proceeding by example, consider the vertices of a two-dimensional unit square as shown below"
      ]
    },
    {
      "cell_type": "code",
      "metadata": {
        "id": "7dosDyBvtnHU",
        "outputId": "12d2b973-2d09-42ba-81cd-256aeed826b0",
        "colab": {
          "base_uri": "https://localhost:8080/",
          "height": 119
        }
      },
      "source": [
        "X,Y = np.meshgrid(np.arange(2),np.arange(2))\n",
        "print(X)\n",
        "print(Y)\n",
        "print(X+Y)"
      ],
      "execution_count": null,
      "outputs": [
        {
          "output_type": "stream",
          "text": [
            "[[0 1]\n",
            " [0 1]]\n",
            "[[0 0]\n",
            " [1 1]]\n",
            "[[0 1]\n",
            " [1 2]]\n"
          ],
          "name": "stdout"
        }
      ]
    },
    {
      "cell_type": "markdown",
      "metadata": {
        "id": "Mmka24rXuifA"
      },
      "source": [
        "\n",
        "Numpy’s meshgrid creates two-dimensional grids. The X and Y arrays have corresponding entries match the coordinates of the vertices of the unit square (e.g., (0, 0), (0, 1), (1, 0), (1, 1)).\n",
        "It turns out we can skip a step here and not bother with meshgrid to implicitly obtain the vertex coordinates by using broadcasting as shown below "
      ]
    },
    {
      "cell_type": "code",
      "metadata": {
        "id": "miRZf36Juhly",
        "outputId": "153b6a26-be1a-42a3-85ad-9d8a5435ab8c",
        "colab": {
          "base_uri": "https://localhost:8080/",
          "height": 51
        }
      },
      "source": [
        "x = np.array([0,1])\n",
        "y = np.array([0,1])\n",
        "\n",
        "\n",
        "print(x + y[:,None])"
      ],
      "execution_count": null,
      "outputs": [
        {
          "output_type": "stream",
          "text": [
            "[[0 1]\n",
            " [1 2]]\n"
          ],
          "name": "stdout"
        }
      ]
    },
    {
      "cell_type": "code",
      "metadata": {
        "id": "Njo3Gll-vmqb",
        "outputId": "8376eca5-e79d-4a16-ee51-8abd412abb50",
        "colab": {
          "base_uri": "https://localhost:8080/",
          "height": 170
        }
      },
      "source": [
        "x = np.array([0,1])\n",
        "y = np.array([0,1,2])\n",
        "X,Y = np.meshgrid(x,y)\n",
        "print(X)\n",
        "print(Y)\n",
        "print(X+Y)"
      ],
      "execution_count": null,
      "outputs": [
        {
          "output_type": "stream",
          "text": [
            "[[0 1]\n",
            " [0 1]\n",
            " [0 1]]\n",
            "[[0 0]\n",
            " [1 1]\n",
            " [2 2]]\n",
            "[[0 1]\n",
            " [1 2]\n",
            " [2 3]]\n"
          ],
          "name": "stdout"
        }
      ]
    },
    {
      "cell_type": "code",
      "metadata": {
        "id": "npWVqJ0pwBVY",
        "outputId": "11c631de-a8c8-460a-f26a-f489575f6ffe",
        "colab": {
          "base_uri": "https://localhost:8080/",
          "height": 68
        }
      },
      "source": [
        "print(x + y[:,None])"
      ],
      "execution_count": null,
      "outputs": [
        {
          "output_type": "stream",
          "text": [
            "[[0 1]\n",
            " [1 2]\n",
            " [2 3]]\n"
          ],
          "name": "stdout"
        }
      ]
    },
    {
      "cell_type": "markdown",
      "metadata": {
        "id": "l6MoOTp9wSoU"
      },
      "source": [
        "Broadcasting works in multiple dimensions also"
      ]
    },
    {
      "cell_type": "code",
      "metadata": {
        "id": "sHgeuaNwwXPY",
        "outputId": "ddc2cf6d-1b1a-49c5-ccac-f6ba82a0dfde",
        "colab": {
          "base_uri": "https://localhost:8080/",
          "height": 272
        }
      },
      "source": [
        "x = np.array([0,1])\n",
        "y = np.array([0,1,2])\n",
        "z = np.array([0,1,2,3])\n",
        "print(x + y[:,None] + z[:,None,None])"
      ],
      "execution_count": null,
      "outputs": [
        {
          "output_type": "stream",
          "text": [
            "[[[0 1]\n",
            "  [1 2]\n",
            "  [2 3]]\n",
            "\n",
            " [[1 2]\n",
            "  [2 3]\n",
            "  [3 4]]\n",
            "\n",
            " [[2 3]\n",
            "  [3 4]\n",
            "  [4 5]]\n",
            "\n",
            " [[3 4]\n",
            "  [4 5]\n",
            "  [5 6]]]\n"
          ],
          "name": "stdout"
        }
      ]
    },
    {
      "cell_type": "markdown",
      "metadata": {
        "id": "G_2JNs6nxjBx"
      },
      "source": [
        "# **Numpy Masked Array**"
      ]
    },
    {
      "cell_type": "markdown",
      "metadata": {
        "id": "l4F1LGLe1kPh"
      },
      "source": [
        "\n",
        "Numpy provides a powerful method to temporarily hide array elements without changing the shape of the array itself,"
      ]
    },
    {
      "cell_type": "code",
      "metadata": {
        "id": "QVdE9Lm91i00"
      },
      "source": [
        "from numpy import ma"
      ],
      "execution_count": null,
      "outputs": []
    },
    {
      "cell_type": "code",
      "metadata": {
        "id": "iSUMVFER1ogq",
        "outputId": "0bf22f7c-46ec-4336-d1ea-21d3b53da313",
        "colab": {
          "base_uri": "https://localhost:8080/",
          "height": 34
        }
      },
      "source": [
        "x = np.arange(10)\n",
        "y = ma.masked_array(x,x<5)\n",
        "print(y)"
      ],
      "execution_count": null,
      "outputs": [
        {
          "output_type": "stream",
          "text": [
            "[-- -- -- -- -- 5 6 7 8 9]\n"
          ],
          "name": "stdout"
        }
      ]
    },
    {
      "cell_type": "code",
      "metadata": {
        "id": "zwTzvDqH1y1B",
        "outputId": "4672f896-f676-4f38-da3e-18dc030410f9",
        "colab": {
          "base_uri": "https://localhost:8080/",
          "height": 51
        }
      },
      "source": [
        "print(y.shape)\n",
        "x[-1] = 999999\n",
        "print(y)"
      ],
      "execution_count": null,
      "outputs": [
        {
          "output_type": "stream",
          "text": [
            "(10,)\n",
            "[-- -- -- -- -- 5 6 7 8 999999]\n"
          ],
          "name": "stdout"
        }
      ]
    },
    {
      "cell_type": "markdown",
      "metadata": {
        "id": "vU8eN0H02F0J"
      },
      "source": [
        "# **Floating Point Numbers** "
      ]
    },
    {
      "cell_type": "markdown",
      "metadata": {
        "id": "-aNgxOjO2M-U"
      },
      "source": [
        "\n",
        "There are precision limitations when representing floating-point numbers on a computer with finite memory. For example, the following shows these limitations when adding two simple numbers,"
      ]
    },
    {
      "cell_type": "code",
      "metadata": {
        "id": "lnDOpifx14xO",
        "outputId": "dff87567-e767-4f67-b04c-9662a01a1f75",
        "colab": {
          "base_uri": "https://localhost:8080/",
          "height": 34
        }
      },
      "source": [
        "print(0.1+0.2)"
      ],
      "execution_count": null,
      "outputs": [
        {
          "output_type": "stream",
          "text": [
            "0.30000000000000004\n"
          ],
          "name": "stdout"
        }
      ]
    },
    {
      "cell_type": "markdown",
      "metadata": {
        "id": "1xiREOMH2ZwB"
      },
      "source": [
        "So, then, why is the output not 0.3? The issue is the floating-point representation of the two numbers and the algorithm that adds them. To represent an integer in binary, we just write it out in powers of 2. For example, 230 = (11100110)_2. Python can do this conversion using string formatting,"
      ]
    },
    {
      "cell_type": "code",
      "metadata": {
        "id": "7Gce59e-2TOT",
        "outputId": "6f77bcd7-7208-450b-e2c3-52f75db7e3ab",
        "colab": {
          "base_uri": "https://localhost:8080/",
          "height": 51
        }
      },
      "source": [
        "print('{0:b}'.format(230))\n",
        "\n",
        "def bin(x):\n",
        "  b = []\n",
        "  while x>0:\n",
        "    x,r = divmod(x,2)\n",
        "    b.append(r)\n",
        "  b = b[::-1]\n",
        "  return ''.join([str(i) for i in b])\n",
        "\n",
        "print(bin(230))\n",
        "\n"
      ],
      "execution_count": null,
      "outputs": [
        {
          "output_type": "stream",
          "text": [
            "11100110\n",
            "11100110\n"
          ],
          "name": "stdout"
        }
      ]
    },
    {
      "cell_type": "code",
      "metadata": {
        "id": "mFoQb51i4dTA"
      },
      "source": [
        ""
      ],
      "execution_count": null,
      "outputs": []
    },
    {
      "cell_type": "markdown",
      "metadata": {
        "id": "7HwG9cUG2pjm"
      },
      "source": [
        "Representing floating point is trickier because we have to represent these numbers as binary fractions. The IEEE 754 standard requires that floating-point numbers be represented as ±C × 2E where C is the significand (mantissa) and E is the exponent.\n",
        "o represent a regular decimal fraction as binary fraction, we need to compute 23\n",
        "the expansion of the fraction in the following form a1/2 + a2/4 + a3/8 ..."
      ]
    },
    {
      "cell_type": "code",
      "metadata": {
        "id": "AOjDUU-X2lK7",
        "outputId": "8aa8cb2c-495a-4c5d-d33d-88925843ba1f",
        "colab": {
          "base_uri": "https://localhost:8080/",
          "height": 34
        }
      },
      "source": [
        "#divmod(x,y) = ((x//y),x%y)\n",
        "\n",
        "#a1/2 + a2/4 + a3/8 + ..... = N\n",
        "#a1 + a2/2 + a3/4 + ...... = 2N , a1 = floor(2N)\n",
        "# after mod 1 and multiply by 2 ---> a2 + a3/2 + .... = 4N , a2 = floor(4N)\n",
        "# and so on ........\n",
        "def frac_bin(a):\n",
        "  bits = []\n",
        "  while a > 0:\n",
        "    q,a = divmod(a*2,1)\n",
        "    bits.append(q)\n",
        "\n",
        "  return ''.join(['%d' %i for i in bits])\n",
        "\n",
        "\n",
        "print(frac_bin(0.1))\n"
      ],
      "execution_count": null,
      "outputs": [
        {
          "output_type": "stream",
          "text": [
            "0001100110011001100110011001100110011001100110011001101\n"
          ],
          "name": "stdout"
        }
      ]
    },
    {
      "cell_type": "code",
      "metadata": {
        "id": "HDRHmQZP-hDL",
        "outputId": "7763ef35-e7d4-4fc1-b347-2980b9bbfe6e",
        "colab": {
          "base_uri": "https://localhost:8080/",
          "height": 37
        }
      },
      "source": [
        "Math(r'1.\\overline{1001}*2^{-4}')\n"
      ],
      "execution_count": null,
      "outputs": [
        {
          "output_type": "execute_result",
          "data": {
            "text/latex": "$$1.\\overline{1001}*2^{-4}$$",
            "text/plain": [
              "<IPython.core.display.Math object>"
            ]
          },
          "metadata": {
            "tags": []
          },
          "execution_count": 70
        }
      ]
    },
    {
      "cell_type": "markdown",
      "metadata": {
        "id": "gfGBvOU17B2l"
      },
      "source": [
        "\n",
        "Note that the representation has an infinitely repeating pattern\n",
        "\n",
        "Per the IEEE 74 standard, for float type , we have 24-bits for the significand and 23-bits for the fractional part. Because we cannot represent the infinitely repeating sequence, we have to round off at 23-bits, 10011001100110011001101. Thus, whereas the significand’s representation used to be 1.6, with this rounding, it is now :"
      ]
    },
    {
      "cell_type": "code",
      "metadata": {
        "id": "LxUTGd4w8yu_",
        "outputId": "e195ef4a-2834-4d48-d52b-8add221fb0d9",
        "colab": {
          "base_uri": "https://localhost:8080/",
          "height": 34
        }
      },
      "source": [
        "b = '10011001100110011001101'\n",
        "print(1+sum([int(i)/(2**n) for n,i in enumerate(b,1)]))"
      ],
      "execution_count": null,
      "outputs": [
        {
          "output_type": "stream",
          "text": [
            "1.600000023841858\n"
          ],
          "name": "stdout"
        }
      ]
    },
    {
      "cell_type": "code",
      "metadata": {
        "id": "Ff2Mm3QE_xpH",
        "outputId": "f0e22d66-c644-40f4-b928-3fb7d5ae3f34",
        "colab": {
          "base_uri": "https://localhost:8080/",
          "height": 51
        }
      },
      "source": [
        "print(frac_bin(0.2))\n",
        "print(frac_bin(0.1))"
      ],
      "execution_count": null,
      "outputs": [
        {
          "output_type": "stream",
          "text": [
            "001100110011001100110011001100110011001100110011001101\n",
            "0001100110011001100110011001100110011001100110011001101\n"
          ],
          "name": "stdout"
        }
      ]
    },
    {
      "cell_type": "markdown",
      "metadata": {
        "id": "HUhULIdgKhpf"
      },
      "source": [
        "So:\n",
        "\n",
        "0.1 + 0.2 =   \n",
        "\n",
        "              0.11001100110011001100110 +\n",
        "              1.10011001100110011001101 \n",
        "              -------------------------- \n",
        "              10.01100110011001100110011"
      ]
    },
    {
      "cell_type": "code",
      "metadata": {
        "id": "JcPCG79sK1WU",
        "outputId": "aea1d675-17bc-49a1-c43c-39e0669eaa5a",
        "colab": {
          "base_uri": "https://localhost:8080/",
          "height": 51
        }
      },
      "source": [
        "#then  , 0.3 = \n",
        "k = '00110011001100110011010'\n",
        "print('%0.12f'%((1+sum([int(i)/(2**n) for n,i in enumerate(k,1)]))/2**2))\n",
        "print('%0.12f' % (np.float32(0.1) + np.float32(0.2)))"
      ],
      "execution_count": null,
      "outputs": [
        {
          "output_type": "stream",
          "text": [
            "0.300000011921\n",
            "0.300000011921\n"
          ],
          "name": "stdout"
        }
      ]
    },
    {
      "cell_type": "markdown",
      "metadata": {
        "id": "zYz-KsOqK-de"
      },
      "source": [
        "The entire process proceeds the same for 64-bit floats. Python has a fractions and decimal modules that allow more exact number representations. The decimal module is particularly important for certain financial computations"
      ]
    },
    {
      "cell_type": "markdown",
      "metadata": {
        "id": "9oDho5IiLa8_"
      },
      "source": [
        " ***Round off Error***"
      ]
    },
    {
      "cell_type": "code",
      "metadata": {
        "id": "a_mfGHNQSjRE",
        "outputId": "ffbcad8c-262f-4614-966e-f6f60585d6ba",
        "colab": {
          "base_uri": "https://localhost:8080/",
          "height": 51
        }
      },
      "source": [
        "print('{0:b}'.format(100000000))\n",
        "print('{0:b}'.format(10))\n"
      ],
      "execution_count": null,
      "outputs": [
        {
          "output_type": "stream",
          "text": [
            "101111101011110000100000000\n",
            "1010\n"
          ],
          "name": "stdout"
        }
      ]
    },
    {
      "cell_type": "markdown",
      "metadata": {
        "id": "Oflg7qALS6Ej"
      },
      "source": [
        "1.01111101011110000100000000 \n",
        "\n",
        "\n",
        "+\n",
        "\n",
        "\n",
        "0.00000000000000000000001010 \n",
        "\n",
        "-----------------------------\n",
        "1.01111101011110000100001010"
      ]
    },
    {
      "cell_type": "code",
      "metadata": {
        "id": "mMBqubr_S5SM",
        "outputId": "e22ea9af-2885-4186-e062-23ff186d598c",
        "colab": {
          "base_uri": "https://localhost:8080/",
          "height": 34
        }
      },
      "source": [
        "print(format(np.float32(100000000)+np.float32(10),'10.3f'))"
      ],
      "execution_count": null,
      "outputs": [
        {
          "output_type": "stream",
          "text": [
            "100000008.000\n"
          ],
          "name": "stdout"
        }
      ]
    },
    {
      "cell_type": "code",
      "metadata": {
        "id": "0WKFzGO1Xrnq",
        "outputId": "0d39cedb-6bb2-4cf9-c167-02eea80a65e7",
        "colab": {
          "base_uri": "https://localhost:8080/",
          "height": 34
        }
      },
      "source": [
        "import math\n",
        "x = math.fsum([np.float32(100000000),np.float32(10)])\n",
        "print(x)"
      ],
      "execution_count": null,
      "outputs": [
        {
          "output_type": "stream",
          "text": [
            "100000010.0\n"
          ],
          "name": "stdout"
        }
      ]
    },
    {
      "cell_type": "markdown",
      "metadata": {
        "id": "e1jJKIrHYx5j"
      },
      "source": [
        "#**PANDUDO**"
      ]
    },
    {
      "cell_type": "code",
      "metadata": {
        "id": "qqj253MfY2mb",
        "outputId": "3783ae96-febd-43e7-c6df-c3de617bc20b",
        "colab": {
          "base_uri": "https://localhost:8080/",
          "height": 119
        }
      },
      "source": [
        "import pandas as pd\n",
        "\n",
        "x = pd.Series(index = range(5),data=[1,3,9,11,12])\n",
        "print(x)"
      ],
      "execution_count": null,
      "outputs": [
        {
          "output_type": "stream",
          "text": [
            "0     1\n",
            "1     3\n",
            "2     9\n",
            "3    11\n",
            "4    12\n",
            "dtype: int64\n"
          ],
          "name": "stdout"
        }
      ]
    },
    {
      "cell_type": "markdown",
      "metadata": {
        "id": "T1aaGwgYa2BQ"
      },
      "source": [
        "The main thing to keep in mind with Pandas is that these data structures were originally designed to work with time-series data. In that case, the index in the data structures corresponds to a sequence of ordered time stamps. In the general case, the index must be a sort-able array-like entity. For example :\n"
      ]
    },
    {
      "cell_type": "code",
      "metadata": {
        "id": "5s3aL2YYan9g",
        "outputId": "97138d0b-a36e-4b61-8aa4-92b406e89602",
        "colab": {
          "base_uri": "https://localhost:8080/",
          "height": 119
        }
      },
      "source": [
        "x=pd.Series(index = ['a','b','d','z','z'],data=[1,3,9,11,12])\n",
        "print(x)"
      ],
      "execution_count": null,
      "outputs": [
        {
          "output_type": "stream",
          "text": [
            "a     1\n",
            "b     3\n",
            "d     9\n",
            "z    11\n",
            "z    12\n",
            "dtype: int64\n"
          ],
          "name": "stdout"
        }
      ]
    },
    {
      "cell_type": "code",
      "metadata": {
        "id": "7dz6PUC0bG-N",
        "outputId": "716c4952-f7bc-4d45-f9f9-c17a2787f039",
        "colab": {
          "base_uri": "https://localhost:8080/",
          "height": 289
        }
      },
      "source": [
        "print(x.a)\n",
        "print(x.z)\n",
        "print(x.iloc[:3])\n",
        "print(x.loc['a':'d'])\n",
        "print(x['a':'d'])"
      ],
      "execution_count": null,
      "outputs": [
        {
          "output_type": "stream",
          "text": [
            "1\n",
            "z    11\n",
            "z    12\n",
            "dtype: int64\n",
            "a    1\n",
            "b    3\n",
            "d    9\n",
            "dtype: int64\n",
            "a    1\n",
            "b    3\n",
            "d    9\n",
            "dtype: int64\n",
            "a    1\n",
            "b    3\n",
            "d    9\n",
            "dtype: int64\n"
          ],
          "name": "stdout"
        }
      ]
    },
    {
      "cell_type": "markdown",
      "metadata": {
        "id": "xcjVLtqEbowG"
      },
      "source": [
        "The main power of Pandas comes from its power to aggregate and group data. "
      ]
    },
    {
      "cell_type": "code",
      "metadata": {
        "id": "caIEbnm0bqyT",
        "outputId": "c6d9e238-e5f6-4abd-e294-5d684aaa8910",
        "colab": {
          "base_uri": "https://localhost:8080/",
          "height": 187
        }
      },
      "source": [
        "x = pd.Series(range(5),[1,2,11,9,10])\n",
        "\n",
        "grp=x.groupby(lambda i:i%2) # odd or even\n",
        "print(grp.get_group(0))\n",
        "print(grp.get_group(1))\n",
        "print(grp.max())"
      ],
      "execution_count": null,
      "outputs": [
        {
          "output_type": "stream",
          "text": [
            "2     1\n",
            "10    4\n",
            "dtype: int64\n",
            "1     0\n",
            "11    2\n",
            "9     3\n",
            "dtype: int64\n",
            "0    4\n",
            "1    3\n",
            "dtype: int64\n"
          ],
          "name": "stdout"
        }
      ]
    },
    {
      "cell_type": "markdown",
      "metadata": {
        "id": "mgObQf3iqyTZ"
      },
      "source": [
        "The Pandas DataFrame is an encapsulation of the Series that extends to two dimensions. One way to create a DataFrame is with dictionaries as in the following:"
      ]
    },
    {
      "cell_type": "code",
      "metadata": {
        "id": "_oLJG2P6q0MJ",
        "outputId": "7e81cbe3-fac9-4a94-87fa-dea03f81c2f2",
        "colab": {
          "base_uri": "https://localhost:8080/",
          "height": 111
        }
      },
      "source": [
        "df = pd.DataFrame({'col1': [1,3,11,2], 'col2': [9,23,0,2]})\n",
        "df.iloc[:2,:2]"
      ],
      "execution_count": null,
      "outputs": [
        {
          "output_type": "execute_result",
          "data": {
            "text/html": [
              "<div>\n",
              "<style scoped>\n",
              "    .dataframe tbody tr th:only-of-type {\n",
              "        vertical-align: middle;\n",
              "    }\n",
              "\n",
              "    .dataframe tbody tr th {\n",
              "        vertical-align: top;\n",
              "    }\n",
              "\n",
              "    .dataframe thead th {\n",
              "        text-align: right;\n",
              "    }\n",
              "</style>\n",
              "<table border=\"1\" class=\"dataframe\">\n",
              "  <thead>\n",
              "    <tr style=\"text-align: right;\">\n",
              "      <th></th>\n",
              "      <th>col1</th>\n",
              "      <th>col2</th>\n",
              "    </tr>\n",
              "  </thead>\n",
              "  <tbody>\n",
              "    <tr>\n",
              "      <th>0</th>\n",
              "      <td>1</td>\n",
              "      <td>9</td>\n",
              "    </tr>\n",
              "    <tr>\n",
              "      <th>1</th>\n",
              "      <td>3</td>\n",
              "      <td>23</td>\n",
              "    </tr>\n",
              "  </tbody>\n",
              "</table>\n",
              "</div>"
            ],
            "text/plain": [
              "   col1  col2\n",
              "0     1     9\n",
              "1     3    23"
            ]
          },
          "metadata": {
            "tags": []
          },
          "execution_count": 94
        }
      ]
    },
    {
      "cell_type": "code",
      "metadata": {
        "id": "KiR2vPW6qxan",
        "outputId": "4f99bfc4-122e-41e2-b8c9-b1a383557c9b",
        "colab": {
          "base_uri": "https://localhost:8080/",
          "height": 102
        }
      },
      "source": [
        "df['col1']"
      ],
      "execution_count": null,
      "outputs": [
        {
          "output_type": "execute_result",
          "data": {
            "text/plain": [
              "0     1\n",
              "1     3\n",
              "2    11\n",
              "3     2\n",
              "Name: col1, dtype: int64"
            ]
          },
          "metadata": {
            "tags": []
          },
          "execution_count": 95
        }
      ]
    },
    {
      "cell_type": "code",
      "metadata": {
        "id": "bjGakt6OrNly",
        "outputId": "b787a967-6a17-44e5-a7db-2d5c04fb1854",
        "colab": {
          "base_uri": "https://localhost:8080/",
          "height": 51
        }
      },
      "source": [
        "grp = df.groupby('col1')\n",
        "print(grp.get_group(1))"
      ],
      "execution_count": null,
      "outputs": [
        {
          "output_type": "stream",
          "text": [
            "   col1  col2\n",
            "0     1     9\n"
          ],
          "name": "stdout"
        }
      ]
    },
    {
      "cell_type": "code",
      "metadata": {
        "id": "umcKCcLUrJac"
      },
      "source": [
        "df['sum_col']=df.eval('col1+col2')"
      ],
      "execution_count": null,
      "outputs": []
    },
    {
      "cell_type": "code",
      "metadata": {
        "id": "G7wfFiayrqGB",
        "outputId": "ba3e7c55-5d44-41c7-f342-c2b92c84de9e",
        "colab": {
          "base_uri": "https://localhost:8080/",
          "height": 173
        }
      },
      "source": [
        "df"
      ],
      "execution_count": null,
      "outputs": [
        {
          "output_type": "execute_result",
          "data": {
            "text/html": [
              "<div>\n",
              "<style scoped>\n",
              "    .dataframe tbody tr th:only-of-type {\n",
              "        vertical-align: middle;\n",
              "    }\n",
              "\n",
              "    .dataframe tbody tr th {\n",
              "        vertical-align: top;\n",
              "    }\n",
              "\n",
              "    .dataframe thead th {\n",
              "        text-align: right;\n",
              "    }\n",
              "</style>\n",
              "<table border=\"1\" class=\"dataframe\">\n",
              "  <thead>\n",
              "    <tr style=\"text-align: right;\">\n",
              "      <th></th>\n",
              "      <th>col1</th>\n",
              "      <th>col2</th>\n",
              "      <th>sum_col</th>\n",
              "    </tr>\n",
              "  </thead>\n",
              "  <tbody>\n",
              "    <tr>\n",
              "      <th>0</th>\n",
              "      <td>1</td>\n",
              "      <td>9</td>\n",
              "      <td>10</td>\n",
              "    </tr>\n",
              "    <tr>\n",
              "      <th>1</th>\n",
              "      <td>3</td>\n",
              "      <td>23</td>\n",
              "      <td>26</td>\n",
              "    </tr>\n",
              "    <tr>\n",
              "      <th>2</th>\n",
              "      <td>11</td>\n",
              "      <td>0</td>\n",
              "      <td>11</td>\n",
              "    </tr>\n",
              "    <tr>\n",
              "      <th>3</th>\n",
              "      <td>2</td>\n",
              "      <td>2</td>\n",
              "      <td>4</td>\n",
              "    </tr>\n",
              "  </tbody>\n",
              "</table>\n",
              "</div>"
            ],
            "text/plain": [
              "   col1  col2  sum_col\n",
              "0     1     9       10\n",
              "1     3    23       26\n",
              "2    11     0       11\n",
              "3     2     2        4"
            ]
          },
          "metadata": {
            "tags": []
          },
          "execution_count": 103
        }
      ]
    },
    {
      "cell_type": "code",
      "metadata": {
        "id": "SQCA6xyBr0BZ",
        "outputId": "580ddf1e-b292-4bd9-9692-00dea5d1baec",
        "colab": {
          "base_uri": "https://localhost:8080/",
          "height": 204
        }
      },
      "source": [
        "grp =  df.groupby(['sum_col','col1'])\n",
        "res = grp.sum()\n",
        "res"
      ],
      "execution_count": null,
      "outputs": [
        {
          "output_type": "execute_result",
          "data": {
            "text/html": [
              "<div>\n",
              "<style scoped>\n",
              "    .dataframe tbody tr th:only-of-type {\n",
              "        vertical-align: middle;\n",
              "    }\n",
              "\n",
              "    .dataframe tbody tr th {\n",
              "        vertical-align: top;\n",
              "    }\n",
              "\n",
              "    .dataframe thead th {\n",
              "        text-align: right;\n",
              "    }\n",
              "</style>\n",
              "<table border=\"1\" class=\"dataframe\">\n",
              "  <thead>\n",
              "    <tr style=\"text-align: right;\">\n",
              "      <th></th>\n",
              "      <th></th>\n",
              "      <th>col2</th>\n",
              "    </tr>\n",
              "    <tr>\n",
              "      <th>sum_col</th>\n",
              "      <th>col1</th>\n",
              "      <th></th>\n",
              "    </tr>\n",
              "  </thead>\n",
              "  <tbody>\n",
              "    <tr>\n",
              "      <th>4</th>\n",
              "      <th>2</th>\n",
              "      <td>2</td>\n",
              "    </tr>\n",
              "    <tr>\n",
              "      <th>10</th>\n",
              "      <th>1</th>\n",
              "      <td>9</td>\n",
              "    </tr>\n",
              "    <tr>\n",
              "      <th>11</th>\n",
              "      <th>11</th>\n",
              "      <td>0</td>\n",
              "    </tr>\n",
              "    <tr>\n",
              "      <th>26</th>\n",
              "      <th>3</th>\n",
              "      <td>23</td>\n",
              "    </tr>\n",
              "  </tbody>\n",
              "</table>\n",
              "</div>"
            ],
            "text/plain": [
              "              col2\n",
              "sum_col col1      \n",
              "4       2        2\n",
              "10      1        9\n",
              "11      11       0\n",
              "26      3       23"
            ]
          },
          "metadata": {
            "tags": []
          },
          "execution_count": 104
        }
      ]
    },
    {
      "cell_type": "markdown",
      "metadata": {
        "id": "u9q-xSzrsRqb"
      },
      "source": [
        "# **Sympy**"
      ]
    },
    {
      "cell_type": "code",
      "metadata": {
        "id": "Xo8pDJaEsiCW"
      },
      "source": [
        "import sympy as S "
      ],
      "execution_count": null,
      "outputs": []
    },
    {
      "cell_type": "code",
      "metadata": {
        "id": "GeV5JRsRsjOR",
        "outputId": "b66849a2-c8bd-4c76-8f84-1ff1e9dba2f7",
        "colab": {
          "base_uri": "https://localhost:8080/",
          "height": 34
        }
      },
      "source": [
        "x = S.symbols('x')\n",
        "p=sum(x**i for i in range(3))\n",
        "p"
      ],
      "execution_count": null,
      "outputs": [
        {
          "output_type": "execute_result",
          "data": {
            "text/plain": [
              "x**2 + x + 1"
            ]
          },
          "metadata": {
            "tags": []
          },
          "execution_count": 107
        }
      ]
    },
    {
      "cell_type": "code",
      "metadata": {
        "id": "me5mLoE2sp8r",
        "outputId": "09cd76b3-1518-4fd7-ce83-1b832612bc30",
        "colab": {
          "base_uri": "https://localhost:8080/",
          "height": 34
        }
      },
      "source": [
        "S.solve(p)"
      ],
      "execution_count": null,
      "outputs": [
        {
          "output_type": "execute_result",
          "data": {
            "text/plain": [
              "[-1/2 - sqrt(3)*I/2, -1/2 + sqrt(3)*I/2]"
            ]
          },
          "metadata": {
            "tags": []
          },
          "execution_count": 108
        }
      ]
    },
    {
      "cell_type": "code",
      "metadata": {
        "id": "imNPy0sCsv_Y"
      },
      "source": [
        "from sympy.abc import a,b,c"
      ],
      "execution_count": null,
      "outputs": []
    },
    {
      "cell_type": "code",
      "metadata": {
        "id": "xItZBWuasyUK",
        "outputId": "595b55ad-a27e-4ddd-ef69-6eaab2fa97dd",
        "colab": {
          "base_uri": "https://localhost:8080/",
          "height": 34
        }
      },
      "source": [
        "p = a* x**2 + b*x + c\n",
        "S.solve(p,x)"
      ],
      "execution_count": null,
      "outputs": [
        {
          "output_type": "execute_result",
          "data": {
            "text/plain": [
              "[(-b + sqrt(-4*a*c + b**2))/(2*a), -(b + sqrt(-4*a*c + b**2))/(2*a)]"
            ]
          },
          "metadata": {
            "tags": []
          },
          "execution_count": 111
        }
      ]
    },
    {
      "cell_type": "code",
      "metadata": {
        "id": "OspzhRM-s-Zj",
        "outputId": "91064361-d398-49d3-f1d2-432c10726007",
        "colab": {
          "base_uri": "https://localhost:8080/",
          "height": 34
        }
      },
      "source": [
        "a = S.symbols('a',real=False)\n",
        "S.expand_complex(S.exp(S.I*a))"
      ],
      "execution_count": null,
      "outputs": [
        {
          "output_type": "execute_result",
          "data": {
            "text/plain": [
              "I*exp(-im(a))*sin(re(a)) + exp(-im(a))*cos(re(a))"
            ]
          },
          "metadata": {
            "tags": []
          },
          "execution_count": 114
        }
      ]
    },
    {
      "cell_type": "markdown",
      "metadata": {
        "id": "EODDxduntzaD"
      },
      "source": [
        "A powerful way to use Sympy is to construct complicated expressions that you can later evaluate using Numpy via the lambdify method. For example,\n"
      ]
    },
    {
      "cell_type": "code",
      "metadata": {
        "id": "mvpxSc3Dtmw8",
        "outputId": "d2dd2bfe-0ddc-45ec-f8cc-744efd1631ee",
        "colab": {
          "base_uri": "https://localhost:8080/",
          "height": 34
        }
      },
      "source": [
        "y = S.tan(x)*x + x**2\n",
        "yf = S.lambdify(x,y,'numpy')\n",
        "yf(.1)"
      ],
      "execution_count": null,
      "outputs": [
        {
          "output_type": "execute_result",
          "data": {
            "text/plain": [
              "0.020033467208545055"
            ]
          },
          "metadata": {
            "tags": []
          },
          "execution_count": 119
        }
      ]
    },
    {
      "cell_type": "code",
      "metadata": {
        "id": "7bKYZc-7tIm1",
        "outputId": "cd7d9d43-edcc-49a3-8301-e318cd089f80",
        "colab": {
          "base_uri": "https://localhost:8080/",
          "height": 34
        }
      },
      "source": [
        "y.subs(x,.1)"
      ],
      "execution_count": null,
      "outputs": [
        {
          "output_type": "execute_result",
          "data": {
            "text/plain": [
              "0.0200334672085451"
            ]
          },
          "metadata": {
            "tags": []
          },
          "execution_count": 120
        }
      ]
    },
    {
      "cell_type": "markdown",
      "metadata": {
        "id": "1pLH6Q7jxofn"
      },
      "source": [
        "# **Quick Guide to Performance and Parallel Programming**\n",
        "\n",
        "Use in your local python enviroment , doesnt work on Jupyter"
      ]
    },
    {
      "cell_type": "code",
      "metadata": {
        "id": "4g1Mmh1Zxq48"
      },
      "source": [
        "# filename multiprocessing_demo.py import multiprocessing\n",
        "import time\n",
        "from concurrent import futures\n",
        "def worker(k):\n",
        "  'worker function'\n",
        "  print('am starting process %d' % (k)) \n",
        "  time.sleep(10) # wait ten seconds print('am done waiting!')\n",
        "  return\n",
        "\n",
        "def main():\n",
        "  with futures.ProcessPoolExecutor(max_workers=3) as executor:\n",
        "    list(executor.map(worker,range(10)))\n",
        "  if __name__ == '__main__': main()\n",
        "\n",
        "#python multiprocessing_demo.py"
      ],
      "execution_count": null,
      "outputs": []
    },
    {
      "cell_type": "code",
      "metadata": {
        "id": "0TgCo21Zzpsk",
        "outputId": "1e4254b5-c276-4a67-cca5-e3e12a710347",
        "colab": {
          "base_uri": "https://localhost:8080/",
          "height": 317
        }
      },
      "source": [
        "\n"
      ],
      "execution_count": null,
      "outputs": [
        {
          "output_type": "error",
          "ename": "ModuleNotFoundError",
          "evalue": "ignored",
          "traceback": [
            "\u001b[0;31m---------------------------------------------------------------------------\u001b[0m",
            "\u001b[0;31mModuleNotFoundError\u001b[0m                       Traceback (most recent call last)",
            "\u001b[0;32m<ipython-input-121-80e259f748db>\u001b[0m in \u001b[0;36m<module>\u001b[0;34m()\u001b[0m\n\u001b[0;32m----> 1\u001b[0;31m \u001b[0;32mfrom\u001b[0m \u001b[0mipyparallel\u001b[0m \u001b[0;32mimport\u001b[0m \u001b[0mClient\u001b[0m\u001b[0;34m\u001b[0m\u001b[0;34m\u001b[0m\u001b[0m\n\u001b[0m\u001b[1;32m      2\u001b[0m \u001b[0mrc\u001b[0m \u001b[0;34m=\u001b[0m \u001b[0mClient\u001b[0m\u001b[0;34m(\u001b[0m\u001b[0;34m)\u001b[0m\u001b[0;34m\u001b[0m\u001b[0;34m\u001b[0m\u001b[0m\n",
            "\u001b[0;31mModuleNotFoundError\u001b[0m: No module named 'ipyparallel'",
            "",
            "\u001b[0;31m---------------------------------------------------------------------------\u001b[0;32m\nNOTE: If your import is failing due to a missing package, you can\nmanually install dependencies using either !pip or !apt.\n\nTo view examples of installing some common dependencies, click the\n\"Open Examples\" button below.\n\u001b[0;31m---------------------------------------------------------------------------\u001b[0m\n"
          ]
        }
      ]
    }
  ]
}